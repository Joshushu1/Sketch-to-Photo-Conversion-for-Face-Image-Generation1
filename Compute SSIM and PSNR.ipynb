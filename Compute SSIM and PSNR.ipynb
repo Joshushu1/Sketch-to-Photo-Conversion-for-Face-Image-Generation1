{
 "cells": [
  {
   "cell_type": "code",
   "execution_count": 1,
   "metadata": {},
   "outputs": [],
   "source": [
    "from skimage.metrics import structural_similarity\n",
    "import numpy as np\n",
    "import natsort\n",
    "import os\n",
    "import cv2\n",
    "from PIL import Image  \n",
    "import numpy as np "
   ]
  },
  {
   "cell_type": "code",
   "execution_count": 2,
   "metadata": {},
   "outputs": [],
   "source": [
    "def load_filename(path):\n",
    "    dirFiles = os.listdir(path)\n",
    "    for i, file in enumerate(dirFiles):\n",
    "        dirFiles[i] = path + file\n",
    "    return natsort.natsorted(dirFiles ,reverse=False)\n",
    "\n",
    "def load_images(list_path):\n",
    "    img_list = list()\n",
    "    for filename in list_path:\n",
    "        pixels = cv2.imread(filename)\n",
    "        img_list.append(pixels)\n",
    "    return np.asarray(img_list)"
   ]
  },
  {
   "cell_type": "code",
   "execution_count": 3,
   "metadata": {},
   "outputs": [],
   "source": [
    "def compute_l2(imgs1, imgs2):\n",
    "    l2_scores = []\n",
    "    for i in range(len(imgs1)):\n",
    "        score = (np.square(imgs1[i] - imgs2[i])).mean()\n",
    "        l2_scores.append(score)\n",
    "    return np.mean(l2_scores)\n",
    "\n",
    "def compute_ssim(imgs1, imgs2):\n",
    "    ssim_scores = []\n",
    "    for i in range(len(imgs1)):\n",
    "        grayA = cv2.cvtColor(imgs1[i], cv2.COLOR_BGR2GRAY)\n",
    "        grayB = cv2.cvtColor(imgs2[i], cv2.COLOR_BGR2GRAY)\n",
    "        (score, diff) = structural_similarity(grayA, grayB, full=True)\n",
    "        ssim_scores.append(score)\n",
    "    return np.mean(score)\n",
    "\n",
    "def compute_psnr(imgs1, imgs2, max_pixel_value=255.0):  \n",
    "    mse_scores = []  \n",
    "    for i in range(len(imgs1)):  \n",
    "        img1 = imgs1[i].astype(np.float64)  \n",
    "        img2 = imgs2[i].astype(np.float64)  \n",
    "        mse = np.mean((img1 - img2) ** 2)  \n",
    "        if mse == 0:    \n",
    "            psnr = float('inf')  \n",
    "        else:  \n",
    "            psnr = 20 * np.log10(max_pixel_value / np.sqrt(mse))  \n",
    "        mse_scores.append(mse)  \n",
    "    return np.mean(psnr_scores) if 'psnr_scores' in locals() else np.mean(list(map(lambda x: 20 * np.log10(max_pixel_value / np.sqrt(x)), mse_scores)))  "
   ]
  },
  {
   "cell_type": "markdown",
   "metadata": {},
   "source": [
    "## Compute PSNR and SSIM"
   ]
  },
  {
   "cell_type": "code",
   "execution_count": 7,
   "metadata": {},
   "outputs": [
    {
     "name": "stdout",
     "output_type": "stream",
     "text": [
      "Pixel loss weight : 0.2 - Contextual loss weight : 0.8 => L2-norm: 93.62968573333333 :: SSIM: 0.76595402890904\n"
     ]
    }
   ],
   "source": [
    "imgs1 = load_images(load_filename(\"Dataset/CUHK/Testing photo/\"))\n",
    "imgs2 = load_images(load_filename(\"Generated Images/Generated_Pixel[02]_Context[08]/\"))\n",
    "\n",
    "l2 = compute_l2(imgs1, imgs2)\n",
    "ssim = compute_ssim(imgs1, imgs2)\n",
    "psnr = compute_psnr(imgs1, imgs2, max_pixel_value=255.0)\n",
    "\n",
    "print(\"Pixel loss weight : 0.2 - Contextual loss weight : 0.8 => L2-norm: \" + str(l2) + \" :: SSIM: \" + str(ssim)+\" :: PSNR:\"+str(psnr))"
   ]
  },
  {
   "cell_type": "code",
   "execution_count": 4,
   "metadata": {},
   "outputs": [
    {
     "name": "stdout",
     "output_type": "stream",
     "text": [
      "Pixel loss weight : 0.2 - Contextual loss weight : 0.8 => L2-norm: 90.9544131333333 :: SSIM: 0.7885206049009111\n"
     ]
    }
   ],
   "source": [
    "imgs1 = load_images(load_filename(\"Dataset/CUHK/Testing photo/\"))\n",
    "imgs2 = load_images(load_filename(\"Generated Images/Pixel[02]_Context[08]_ps_conv2d_lambda/\"))\n",
    "\n",
    "l2 = compute_l2(imgs1, imgs2)\n",
    "ssim = compute_ssim(imgs1, imgs2)\n",
    "psnr = compute_psnr(imgs1, imgs2, max_pixel_value=255.0)\n",
    "\n",
    "print(\"Pixel loss weight : 0.2 - Contextual loss weight : 0.8 => L2-norm: \" + str(l2) + \" :: SSIM: \" + str(ssim)+\" :: PSNR:\"+str(psnr))"
   ]
  }
 ],
 "metadata": {
  "kernelspec": {
   "display_name": "Python 3",
   "language": "python",
   "name": "python3"
  },
  "language_info": {
   "codemirror_mode": {
    "name": "ipython",
    "version": 3
   },
   "file_extension": ".py",
   "mimetype": "text/x-python",
   "name": "python",
   "nbconvert_exporter": "python",
   "pygments_lexer": "ipython3",
   "version": "3.7.16"
  }
 },
 "nbformat": 4,
 "nbformat_minor": 2
}
