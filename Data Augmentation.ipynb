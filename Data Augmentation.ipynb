{
 "cells": [
  {
   "cell_type": "code",
   "execution_count": 2,
   "metadata": {},
   "outputs": [],
   "source": [
    "import matplotlib.pyplot as plt\n",
    "import matplotlib.gridspec as gridspec\n",
    "import cv2\n",
    "import os\n",
    "import numpy as np\n",
    "import glob\n",
    "from PIL import Image"
   ]
  },
  {
   "cell_type": "code",
   "execution_count": 3,
   "metadata": {},
   "outputs": [],
   "source": [
    "def random_shearing(img, num, border):\n",
    "    rows = img.shape[0]\n",
    "    cols = img.shape[1]\n",
    "    if num == 0:\n",
    "        pts1 = np.float32([[5,5],[20,5],[2,20]])\n",
    "        pts2 = np.float32([[10,10],[20,5],[5,25]])\n",
    "    elif num == 1:\n",
    "        pts1 = np.float32([[5,5],[15,5],[2,20]])\n",
    "        pts2 = np.float32([[5,10],[10,10],[5,25]])\n",
    "    elif num == 2:\n",
    "        pts1 = np.float32([[5,5],[15,5],[5,20]])\n",
    "        pts2 = np.float32([[5,10],[10,10],[5,25]])\n",
    "    elif num == 3:\n",
    "        pts1 = np.float32([[5,5],[10,5],[2,20]])\n",
    "        pts2 = np.float32([[5,10],[10,10],[5,25]])\n",
    "    elif num == 4:\n",
    "        pts1 = np.float32([[5,5],[10,5],[2,20]])\n",
    "        pts2 = np.float32([[5,10],[10,10],[5,30]])\n",
    "    else:\n",
    "        pts1 = np.float32([[5,5],[10,5],[10,20]])\n",
    "        pts2 = np.float32([[5,10],[10,10],[5,30]])\n",
    "    M = cv2.getAffineTransform(pts1,pts2)\n",
    "    return cv2.warpAffine(img, M, (cols,rows), borderValue=border)\n",
    "\n",
    "def random_rotation(img, degree, border):\n",
    "    rows = img.shape[0]\n",
    "    cols = img.shape[1]\n",
    "    M = cv2.getRotationMatrix2D((cols/2,rows/2),degree,1)\n",
    "    return cv2.warpAffine(img,M,(cols,rows), borderValue=border)"
   ]
  },
  {
   "cell_type": "code",
   "execution_count": 4,
   "metadata": {},
   "outputs": [],
   "source": [
    "def transform_image(img, skt, ang_range, shear_range, trans_range):\n",
    "    '''\n",
    "    This function transforms images to generate new images.\n",
    "    The function takes in following arguments,\n",
    "    1- Image\n",
    "    2- ang_range: Range of angles for rotation\n",
    "    3- shear_range: Range of values to apply affine transform to\n",
    "    4- trans_range: Range of values to apply translations over.\n",
    "\n",
    "    A Random uniform distribution is used to generate different parameters for transformation\n",
    "\n",
    "    '''\n",
    "    # Rotation\n",
    "\n",
    "    ang_rot = np.random.uniform(ang_range)-ang_range/2\n",
    "    rows,cols,ch = img.shape    \n",
    "    Rot_M = cv2.getRotationMatrix2D((cols/2,rows/2),ang_rot,1)\n",
    "\n",
    "    # Translation\n",
    "    tr_x = trans_range*np.random.uniform()-trans_range/2\n",
    "    tr_y = trans_range*np.random.uniform()-trans_range/2\n",
    "    Trans_M = np.float32([[1,0,tr_x],[0,1,tr_y]])\n",
    "\n",
    "    # Shear\n",
    "    pts1 = np.float32([[5,5],[20,5],[5,20]])\n",
    "\n",
    "    pt1 = 5+shear_range*np.random.uniform()-shear_range/2\n",
    "    pt2 = 20+shear_range*np.random.uniform()-shear_range/2\n",
    "\n",
    "    pts2 = np.float32([[pt1,5],[pt2,pt1],[5,pt2]])\n",
    "\n",
    "    shear_M = cv2.getAffineTransform(pts1,pts2)\n",
    "\n",
    "    # Border\n",
    "    idx = 0\n",
    "    border_img = tuple([int(img[idx][0][0]), int(img[idx][0][1]), int(img[idx][0][2])])\n",
    "    border_skt = tuple([int(skt[0][0][0]), int(skt[0][0][1]), int(skt[0][0][2])])\n",
    "    \n",
    "    img = cv2.warpAffine(img,Rot_M,(cols,rows), borderValue=border_img)\n",
    "    img = cv2.warpAffine(img,Trans_M,(cols,rows), borderValue=border_img)\n",
    "    img = cv2.warpAffine(img,shear_M,(cols,rows), borderValue=border_img)\n",
    "    \n",
    "    skt = cv2.warpAffine(skt,Rot_M,(cols,rows), borderValue=border_skt)\n",
    "    skt = cv2.warpAffine(skt,Trans_M,(cols,rows), borderValue=border_skt)\n",
    "    skt = cv2.warpAffine(skt,shear_M,(cols,rows), borderValue=border_skt)\n",
    "\n",
    "    return img, skt"
   ]
  },
  {
   "cell_type": "code",
   "execution_count": 5,
   "metadata": {
    "scrolled": true
   },
   "outputs": [],
   "source": [
    "sketch_dir = 'Dataset/Augmented sketch/'\n",
    "photo_dir = 'Dataset/Augmented photo/'\n",
    "\n",
    "if not os.path.exists(sketch_dir):\n",
    "    os.mkdir(sketch_dir)\n",
    "\n",
    "if not os.path.exists(photo_dir):\n",
    "    os.mkdir(photo_dir)\n",
    "\n",
    "p_filenames = sorted(glob.glob('Dataset/CUHK/Training photo/*'))\n",
    "s_filenames = sorted(glob.glob('Dataset/CUHK/Training sketch/*'))\n",
    "\n",
    "counter = 0\n",
    "for i in range(len(p_filenames)):\n",
    "    im = cv2.imread(p_filenames[i])\n",
    "    sk = cv2.imread(s_filenames[i])\n",
    "\n",
    "    for j in range(200):\n",
    "        img, skt = transform_image(im, sk, 40, 10, 10)\n",
    "\n",
    "        cv2.imwrite(photo_dir + str(counter) + '.jpg', img)\n",
    "        cv2.imwrite(sketch_dir + str(counter) + '.jpg', skt)\n",
    "\n",
    "        counter += 1"
   ]
  },
  {
   "cell_type": "code",
   "execution_count": 6,
   "metadata": {},
   "outputs": [
    {
     "name": "stdout",
     "output_type": "stream",
     "text": [
      "['Dataset/CUHK/Training photo/f-005-01.jpg', 'Dataset/CUHK/Training photo/f-006-01.jpg', 'Dataset/CUHK/Training photo/f-007-01.jpg', 'Dataset/CUHK/Training photo/f-008-01.jpg', 'Dataset/CUHK/Training photo/f-009-01.jpg', 'Dataset/CUHK/Training photo/f-010-01.jpg', 'Dataset/CUHK/Training photo/f-011-01.jpg', 'Dataset/CUHK/Training photo/f-012-01.jpg', 'Dataset/CUHK/Training photo/f-013-01.jpg', 'Dataset/CUHK/Training photo/f-014-01.jpg', 'Dataset/CUHK/Training photo/f-015-01.jpg', 'Dataset/CUHK/Training photo/f-016-01.jpg', 'Dataset/CUHK/Training photo/f-017-01.jpg', 'Dataset/CUHK/Training photo/f-018-01.jpg', 'Dataset/CUHK/Training photo/f-019-01.jpg', 'Dataset/CUHK/Training photo/f-020-01.jpg', 'Dataset/CUHK/Training photo/f-021-01.jpg', 'Dataset/CUHK/Training photo/f-022-01.jpg', 'Dataset/CUHK/Training photo/f-023-01.jpg', 'Dataset/CUHK/Training photo/f-024-01.jpg', 'Dataset/CUHK/Training photo/f-025-01.jpg', 'Dataset/CUHK/Training photo/f-026-01.jpg', 'Dataset/CUHK/Training photo/f-027-01.jpg', 'Dataset/CUHK/Training photo/f-028-01.jpg', 'Dataset/CUHK/Training photo/f-029-01.jpg', 'Dataset/CUHK/Training photo/f-030-01.jpg', 'Dataset/CUHK/Training photo/f-031-01.jpg', 'Dataset/CUHK/Training photo/f-032-01.jpg', 'Dataset/CUHK/Training photo/f-033-01.jpg', 'Dataset/CUHK/Training photo/f-034-01.jpg', 'Dataset/CUHK/Training photo/f-035-01.jpg', 'Dataset/CUHK/Training photo/f-036-01.jpg', 'Dataset/CUHK/Training photo/f-037-01.jpg', 'Dataset/CUHK/Training photo/f-038-01.jpg', 'Dataset/CUHK/Training photo/m-008-01.jpg', 'Dataset/CUHK/Training photo/m-009-01.jpg', 'Dataset/CUHK/Training photo/m-010-01.jpg', 'Dataset/CUHK/Training photo/m-011-01.jpg', 'Dataset/CUHK/Training photo/m-012-01.jpg', 'Dataset/CUHK/Training photo/m-013-01.jpg', 'Dataset/CUHK/Training photo/m-014-01.jpg', 'Dataset/CUHK/Training photo/m-015-01.jpg', 'Dataset/CUHK/Training photo/m-016-01.jpg', 'Dataset/CUHK/Training photo/m-017-01.jpg', 'Dataset/CUHK/Training photo/m-018-01.jpg', 'Dataset/CUHK/Training photo/m-019-01.jpg', 'Dataset/CUHK/Training photo/m-021-01.jpg', 'Dataset/CUHK/Training photo/m-022-01.jpg', 'Dataset/CUHK/Training photo/m-023-01.jpg', 'Dataset/CUHK/Training photo/m-024-01.jpg', 'Dataset/CUHK/Training photo/m-025-01.jpg', 'Dataset/CUHK/Training photo/m-026-01.jpg', 'Dataset/CUHK/Training photo/m-027-01.jpg', 'Dataset/CUHK/Training photo/m-028-01.jpg', 'Dataset/CUHK/Training photo/m-029-01.jpg', 'Dataset/CUHK/Training photo/m-030-01.jpg', 'Dataset/CUHK/Training photo/m-031-01.jpg', 'Dataset/CUHK/Training photo/m-032-01.jpg', 'Dataset/CUHK/Training photo/m-033-01.jpg', 'Dataset/CUHK/Training photo/m-034-01.jpg', 'Dataset/CUHK/Training photo/m-035-01.jpg', 'Dataset/CUHK/Training photo/m-036-01.jpg', 'Dataset/CUHK/Training photo/m-037-01.jpg', 'Dataset/CUHK/Training photo/m-038-01.jpg', 'Dataset/CUHK/Training photo/m-039-01.jpg', 'Dataset/CUHK/Training photo/m-040-01.jpg', 'Dataset/CUHK/Training photo/m-041-01.jpg', 'Dataset/CUHK/Training photo/m-042-01.jpg', 'Dataset/CUHK/Training photo/m-043-01.jpg', 'Dataset/CUHK/Training photo/m-044-01.jpg', 'Dataset/CUHK/Training photo/m-045-01.jpg', 'Dataset/CUHK/Training photo/m-046-01.jpg', 'Dataset/CUHK/Training photo/m-047-01.jpg', 'Dataset/CUHK/Training photo/m-048-01.jpg', 'Dataset/CUHK/Training photo/m-049-01.jpg', 'Dataset/CUHK/Training photo/m-050-01.jpg', 'Dataset/CUHK/Training photo/m-051-01.jpg', 'Dataset/CUHK/Training photo/m-052-01.jpg', 'Dataset/CUHK/Training photo/m-053-01.jpg', 'Dataset/CUHK/Training photo/m-054-01.jpg', 'Dataset/CUHK/Training photo/m-055-01.jpg', 'Dataset/CUHK/Training photo/m-056-01.jpg', 'Dataset/CUHK/Training photo/m-057-01.jpg', 'Dataset/CUHK/Training photo/m-058-01.jpg', 'Dataset/CUHK/Training photo/m-059-01.jpg', 'Dataset/CUHK/Training photo/m-060-01.jpg', 'Dataset/CUHK/Training photo/m-061-01.jpg', 'Dataset/CUHK/Training photo/m-062-01.jpg']\n"
     ]
    }
   ],
   "source": [
    "print(p_filenames)"
   ]
  },
  {
   "cell_type": "code",
   "execution_count": 7,
   "metadata": {},
   "outputs": [
    {
     "name": "stdout",
     "output_type": "stream",
     "text": [
      "['Dataset/CUHK/Training sketch/F2-005-01-sz1.jpg', 'Dataset/CUHK/Training sketch/F2-006-01-sz1.jpg', 'Dataset/CUHK/Training sketch/F2-007-01-sz1.jpg', 'Dataset/CUHK/Training sketch/F2-008-01-sz1.jpg', 'Dataset/CUHK/Training sketch/F2-009-01-sz1.jpg', 'Dataset/CUHK/Training sketch/F2-010-01-sz1.jpg', 'Dataset/CUHK/Training sketch/F2-011-01-sz1.jpg', 'Dataset/CUHK/Training sketch/F2-012-01-sz1.jpg', 'Dataset/CUHK/Training sketch/F2-013-01-sz1.jpg', 'Dataset/CUHK/Training sketch/F2-014-01-sz1.jpg', 'Dataset/CUHK/Training sketch/F2-015-01-sz1.jpg', 'Dataset/CUHK/Training sketch/F2-016-01-sz1.jpg', 'Dataset/CUHK/Training sketch/F2-017-01-sz1.jpg', 'Dataset/CUHK/Training sketch/F2-018-01-sz1.jpg', 'Dataset/CUHK/Training sketch/F2-019-01-sz1.jpg', 'Dataset/CUHK/Training sketch/F2-020-01-sz1.jpg', 'Dataset/CUHK/Training sketch/F2-021-01-sz1.jpg', 'Dataset/CUHK/Training sketch/F2-022-01-sz1.jpg', 'Dataset/CUHK/Training sketch/F2-023-01-sz1.jpg', 'Dataset/CUHK/Training sketch/F2-024-01-sz1.jpg', 'Dataset/CUHK/Training sketch/F2-025-01-sz1.jpg', 'Dataset/CUHK/Training sketch/F2-026-01-sz1.jpg', 'Dataset/CUHK/Training sketch/F2-027-01-sz1.jpg', 'Dataset/CUHK/Training sketch/F2-028-01-sz1.jpg', 'Dataset/CUHK/Training sketch/F2-029-01-sz1.jpg', 'Dataset/CUHK/Training sketch/F2-030-01-sz1.jpg', 'Dataset/CUHK/Training sketch/F2-031-01-sz1.jpg', 'Dataset/CUHK/Training sketch/F2-032-01-sz1.jpg', 'Dataset/CUHK/Training sketch/F2-033-01-sz1.jpg', 'Dataset/CUHK/Training sketch/F2-034-01-sz1.jpg', 'Dataset/CUHK/Training sketch/F2-035-01-sz1.jpg', 'Dataset/CUHK/Training sketch/F2-036-01-sz1.jpg', 'Dataset/CUHK/Training sketch/F2-037-01-sz1.jpg', 'Dataset/CUHK/Training sketch/F2-038-01-sz1.jpg', 'Dataset/CUHK/Training sketch/M2-008-01-sz1.jpg', 'Dataset/CUHK/Training sketch/M2-009-01-sz1.jpg', 'Dataset/CUHK/Training sketch/M2-010-01-sz1.jpg', 'Dataset/CUHK/Training sketch/M2-011-01-sz1.jpg', 'Dataset/CUHK/Training sketch/M2-012-01-sz1.jpg', 'Dataset/CUHK/Training sketch/M2-013-01-sz1.jpg', 'Dataset/CUHK/Training sketch/M2-014-01-sz1.jpg', 'Dataset/CUHK/Training sketch/M2-015-01-sz1.jpg', 'Dataset/CUHK/Training sketch/M2-016-01-sz1.jpg', 'Dataset/CUHK/Training sketch/M2-017-01-sz1.jpg', 'Dataset/CUHK/Training sketch/M2-018-01-sz1.jpg', 'Dataset/CUHK/Training sketch/M2-019-01-sz1.jpg', 'Dataset/CUHK/Training sketch/M2-021-01-sz1.jpg', 'Dataset/CUHK/Training sketch/M2-022-01-sz1.jpg', 'Dataset/CUHK/Training sketch/M2-023-01-sz1.jpg', 'Dataset/CUHK/Training sketch/M2-024-01-sz1.jpg', 'Dataset/CUHK/Training sketch/M2-025-01-sz1.jpg', 'Dataset/CUHK/Training sketch/M2-026-01-sz1.jpg', 'Dataset/CUHK/Training sketch/M2-027-01-sz1.jpg', 'Dataset/CUHK/Training sketch/M2-028-01-sz1.jpg', 'Dataset/CUHK/Training sketch/M2-029-01-sz1.jpg', 'Dataset/CUHK/Training sketch/M2-030-01-sz1.jpg', 'Dataset/CUHK/Training sketch/M2-031-01-sz1.jpg', 'Dataset/CUHK/Training sketch/M2-032-01-sz1.jpg', 'Dataset/CUHK/Training sketch/M2-033-01-sz1.jpg', 'Dataset/CUHK/Training sketch/M2-034-01-sz1.jpg', 'Dataset/CUHK/Training sketch/M2-035-01-sz1.jpg', 'Dataset/CUHK/Training sketch/M2-036-01-sz1.jpg', 'Dataset/CUHK/Training sketch/M2-037-01-sz1.jpg', 'Dataset/CUHK/Training sketch/M2-038-01-sz1.jpg', 'Dataset/CUHK/Training sketch/M2-039-01-sz1.jpg', 'Dataset/CUHK/Training sketch/M2-040-01-sz1.jpg', 'Dataset/CUHK/Training sketch/M2-041-01-sz1.jpg', 'Dataset/CUHK/Training sketch/M2-042-01-sz1.jpg', 'Dataset/CUHK/Training sketch/M2-043-01-sz1.jpg', 'Dataset/CUHK/Training sketch/M2-044-01-sz1.jpg', 'Dataset/CUHK/Training sketch/M2-045-01-sz1.jpg', 'Dataset/CUHK/Training sketch/M2-046-01-sz1.jpg', 'Dataset/CUHK/Training sketch/M2-047-01-sz1.jpg', 'Dataset/CUHK/Training sketch/M2-048-01-sz1.jpg', 'Dataset/CUHK/Training sketch/M2-049-01-sz1.jpg', 'Dataset/CUHK/Training sketch/M2-050-01-sz1.jpg', 'Dataset/CUHK/Training sketch/M2-051-01-sz1.jpg', 'Dataset/CUHK/Training sketch/M2-052-01-sz1.jpg', 'Dataset/CUHK/Training sketch/M2-053-01-sz1.jpg', 'Dataset/CUHK/Training sketch/M2-054-01-sz1.jpg', 'Dataset/CUHK/Training sketch/M2-055-01-sz1.jpg', 'Dataset/CUHK/Training sketch/M2-056-01-sz1.jpg', 'Dataset/CUHK/Training sketch/M2-057-01-sz1.jpg', 'Dataset/CUHK/Training sketch/M2-058-01-sz1.jpg', 'Dataset/CUHK/Training sketch/M2-059-01-sz1.jpg', 'Dataset/CUHK/Training sketch/M2-060-01-sz1.jpg', 'Dataset/CUHK/Training sketch/M2-061-01-sz1.jpg', 'Dataset/CUHK/Training sketch/M2-062-01-sz1.jpg']\n"
     ]
    }
   ],
   "source": [
    "print(s_filenames)"
   ]
  },
  {
   "cell_type": "code",
   "execution_count": 9,
   "metadata": {},
   "outputs": [
    {
     "data": {
      "text/plain": [
       "True"
      ]
     },
     "execution_count": 9,
     "metadata": {},
     "output_type": "execute_result"
    }
   ],
   "source": [
    "import tensorflow as tf\n",
    "tf.test.is_gpu_available()"
   ]
  }
 ],
 "metadata": {
  "kernelspec": {
   "display_name": "Python 3",
   "language": "python",
   "name": "python3"
  },
  "language_info": {
   "codemirror_mode": {
    "name": "ipython",
    "version": 3
   },
   "file_extension": ".py",
   "mimetype": "text/x-python",
   "name": "python",
   "nbconvert_exporter": "python",
   "pygments_lexer": "ipython3",
   "version": "3.7.16"
  }
 },
 "nbformat": 4,
 "nbformat_minor": 2
}
