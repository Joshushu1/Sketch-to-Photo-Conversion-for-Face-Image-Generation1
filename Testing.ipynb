{
 "cells": [
  {
   "cell_type": "code",
   "execution_count": 11,
   "metadata": {},
   "outputs": [],
   "source": [
    "from keras_contrib.layers.normalization.instancenormalization import InstanceNormalization\n",
    "from keras.preprocessing.image import img_to_array\n",
    "from keras.preprocessing.image import load_img\n",
    "from keras.models import load_model\n",
    "import numpy as np\n",
    "import natsort\n",
    "import cv2\n",
    "import os\n",
    "import tensorflow as tf"
   ]
  },
  {
   "cell_type": "code",
   "execution_count": 12,
   "metadata": {},
   "outputs": [],
   "source": [
    "def load_filename(path):\n",
    "    dirFiles = os.listdir(path)\n",
    "    for i, file in enumerate(dirFiles):\n",
    "        dirFiles[i] = path + file\n",
    "    return natsort.natsorted(dirFiles ,reverse=False)\n",
    "\n",
    "# load all images in a directory into memory\n",
    "def load_images(list_path, size=(256, 256)):\n",
    "    img_list = list()\n",
    "    # enumerate filenames in directory, assume all are images\n",
    "    for filename in list_path:\n",
    "        # load and resize the image\n",
    "        pixels = load_img(filename, target_size=size)\n",
    "        # convert to numpy array\n",
    "        pixels = img_to_array(pixels)\n",
    "        pixels = (pixels - 127.5) / 127.5\n",
    "        img_list.append(pixels)\n",
    "    return np.asarray(img_list)\n",
    "\n",
    "def pred_images(g_model, target_dir, filenames, batch_size=128):\n",
    "    if not os.path.exists(target_dir):\n",
    "        os.mkdir(target_dir)\n",
    "\n",
    "    imgs = load_images(filenames)\n",
    "    g_img = g_model.predict(imgs)\n",
    "    g_img = g_img * 127.5 + 127.5\n",
    "    for j, _img in enumerate(g_img):\n",
    "        cv2.imwrite(target_dir + \"/\" + os.path.basename(filenames[j]), cv2.resize(cv2.cvtColor(_img.astype('uint8'), cv2.COLOR_RGB2BGR), (200, 250)))\n",
    "    print(\"Image has been successfully saved in \\\"\" + target_dir + \"\\\" folder\")"
   ]
  },
  {
   "cell_type": "code",
   "execution_count": 13,
   "metadata": {},
   "outputs": [],
   "source": [
    "filenames = load_filename('Dataset/CUHK/Testing sketch/')"
   ]
  },
  {
   "cell_type": "code",
   "execution_count": 16,
   "metadata": {},
   "outputs": [
    {
     "name": "stdout",
     "output_type": "stream",
     "text": [
      "Image has been successfully saved in \"Generated Images/Pixel[02]_Context[08]_ps_conv2d_lambda\" folder\n"
     ]
    }
   ],
   "source": [
    "# 将 tf.nn.depth_to_space 函数添加到全局命名空间中\n",
    "#globals()['tf.nn.depth_to_space'] = tf.nn.depth_to_space\n",
    "g_model = load_model('Models/Pixel[02]_Context[08]_ps_conv2d_lambda/g_model.h5', custom_objects={'InstanceNormalization': InstanceNormalization, 'tf': tf})\n",
    "\n",
    "pred_images(g_model, \"Generated Images/Pixel[02]_Context[08]_ps_conv2d_lambda\", filenames)"
   ]
  },
  {
   "cell_type": "code",
   "execution_count": 17,
   "metadata": {},
   "outputs": [
    {
     "name": "stdout",
     "output_type": "stream",
     "text": [
      "Image has been successfully saved in \"Generated Images/Pixel[02]_Context[08]_ps_u7_deconv\" folder\n"
     ]
    }
   ],
   "source": [
    "g_model = load_model('Models/Pixel[02]_Context[08]_ps_u7_deconv/g_model.h5',custom_objects={'InstanceNormalization':InstanceNormalization, 'tf': tf})\n",
    "\n",
    "pred_images(g_model, \"Generated Images/Pixel[02]_Context[08]_ps_u7_deconv\", filenames)"
   ]
  },
  {
   "cell_type": "code",
   "execution_count": 18,
   "metadata": {},
   "outputs": [
    {
     "name": "stdout",
     "output_type": "stream",
     "text": [
      "Image has been successfully saved in \"Generated Images/Pixel[02]_Context[08]_ps_lambda\" folder\n"
     ]
    },
    {
     "ename": "",
     "evalue": "",
     "output_type": "error",
     "traceback": [
      "\u001b[1;31m在当前单元格或上一个单元格中执行代码时 Kernel 崩溃。\n",
      "\u001b[1;31m请查看单元格中的代码，以确定故障的可能原因。\n",
      "\u001b[1;31m单击<a href='https://aka.ms/vscodeJupyterKernelCrash'>此处</a>了解详细信息。\n",
      "\u001b[1;31m有关更多详细信息，请查看 Jupyter <a href='command:jupyter.viewOutput'>log</a>。"
     ]
    }
   ],
   "source": [
    "g_model = load_model('Models/Pixel[02]_Context[08]_ps_lambda/g_model.h5',custom_objects={'InstanceNormalization':InstanceNormalization, 'tf': tf})\n",
    "\n",
    "pred_images(g_model, \"Generated Images/Pixel[02]_Context[08]_ps_lambda\", filenames)"
   ]
  },
  {
   "cell_type": "code",
   "execution_count": null,
   "metadata": {},
   "outputs": [
    {
     "name": "stdout",
     "output_type": "stream",
     "text": [
      "Image has been successfully saved in \"Generated Images/Generated_Pixel[02]_Context[08]\" folder\n"
     ]
    }
   ],
   "source": [
    "g_model = load_model('Models/Pixel[02]_Context[08]/g_model.h5',custom_objects={'InstanceNormalization':InstanceNormalization})\n",
    "\n",
    "pred_images(g_model, \"Generated Images/Generated_Pixel[02]_Context[08]\", filenames)"
   ]
  }
 ],
 "metadata": {
  "kernelspec": {
   "display_name": "Python 3",
   "language": "python",
   "name": "python3"
  },
  "language_info": {
   "codemirror_mode": {
    "name": "ipython",
    "version": 3
   },
   "file_extension": ".py",
   "mimetype": "text/x-python",
   "name": "python",
   "nbconvert_exporter": "python",
   "pygments_lexer": "ipython3",
   "version": "3.7.16"
  }
 },
 "nbformat": 4,
 "nbformat_minor": 2
}
